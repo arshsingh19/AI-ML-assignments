{
 "cells": [
  {
   "cell_type": "code",
   "execution_count": 10,
   "metadata": {},
   "outputs": [
    {
     "name": "stdout",
     "output_type": "stream",
     "text": [
      "0.0303030303030303\n"
     ]
    }
   ],
   "source": [
    "#Q.1 - Consider the below given probabilities: \n",
    "#P(A) = 11 / 36\n",
    "#P(B) = 6 / 36\n",
    "#P(A|B) = 2 / 36\n",
    "#Write a function in Python which takes 3 probabilities as argument and outputs the Conditional probability P(B|A).\n",
    "\n",
    "pa=11/36\n",
    "pb=6/36\n",
    "pab=2/36\n",
    "def fun(pa,pb,pab):\n",
    "    paib=pab*pb\n",
    "    pba=paib/pa\n",
    "    return pba\n",
    "    \n",
    "print(fun(pa,pb,pab))\n",
    "\n"
   ]
  },
  {
   "cell_type": "code",
   "execution_count": 1,
   "metadata": {},
   "outputs": [
    {
     "name": "stdout",
     "output_type": "stream",
     "text": [
      "0.5666666666666667\n"
     ]
    }
   ],
   "source": [
    "#Q.2 - Bag I contains 4 white and 6 black balls while another Bag II contains 4 white and 3 black balls. \n",
    "#    One ball is drawn at random from one of the bags and it is found to be black. \n",
    "#    Find the probability that it was drawn from Bag I.\n",
    "\n",
    "pb=  1/2  #prob of a ball from bag I\n",
    "pa= 9/17 #prob that bal is black\n",
    "pab=6/10 # prob of ball to be black if drawn from bag I\n",
    "pba=(pab*pb)/pa #prob that ball isdrown from bag I if it is found to be black\n",
    "print(pba)"
   ]
  },
  {
   "cell_type": "code",
   "execution_count": null,
   "metadata": {},
   "outputs": [],
   "source": [
    "#Q.3 - A man is known to speak truth 2 out of 3 times. \n",
    "#    He throws a die and reports that number obtained is a four.\n",
    "#   Find the probability that the number obtained is actually a four.\n",
    "\n",
    "pt=2/3\n",
    "p4=1/6\n"
   ]
  }
 ],
 "metadata": {
  "kernelspec": {
   "display_name": "Python 3",
   "language": "python",
   "name": "python3"
  },
  "language_info": {
   "codemirror_mode": {
    "name": "ipython",
    "version": 3
   },
   "file_extension": ".py",
   "mimetype": "text/x-python",
   "name": "python",
   "nbconvert_exporter": "python",
   "pygments_lexer": "ipython3",
   "version": "3.6.5"
  }
 },
 "nbformat": 4,
 "nbformat_minor": 2
}
